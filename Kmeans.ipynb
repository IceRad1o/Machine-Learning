{
 "cells": [
  {
   "cell_type": "markdown",
   "metadata": {},
   "source": [
    "### KMeans algorithm "
   ]
  },
  {
   "cell_type": "code",
   "execution_count": 9,
   "metadata": {},
   "outputs": [
    {
     "data": {
      "text/plain": [
       "<matplotlib.collections.PathCollection at 0x1a1497a780>"
      ]
     },
     "execution_count": 9,
     "metadata": {},
     "output_type": "execute_result"
    },
    {
     "data": {
      "image/png": "[encoded data removed]",
      "text/plain": [
       "<Figure size 432x288 with 1 Axes>"
      ]
     },
     "metadata": {
      "needs_background": "light"
     },
     "output_type": "display_data"
    }
   ],
   "source": [
    "import numpy as np\n",
    "import matplotlib.pyplot as plt\n",
    "from sklearn.datasets import make_blobs\n",
    "from sklearn.cluster import KMeans\n",
    "\n",
    "# Creating a sample dataset with 4 clusters\n",
    "X, y = make_blobs(n_samples=100, n_features=3, centers=4)\n",
    "plt.scatter(X[:,0], X[:,1])\n"
   ]
  },
  {
   "cell_type": "code",
   "execution_count": 18,
   "metadata": {},
   "outputs": [
    {
     "name": "stdout",
     "output_type": "stream",
     "text": [
      "[1 3 3 1 3 0 0 3 0 1 1 3 1 0 1 2 0 0 0 1 0 1 1 2 0 1 3 2 3 0 0 0 2 2 2 3 3\n",
      " 1 0 2 1 2 0 2 0 0 3 0 3 1 3 3 0 1 2 3 1 3 3 0 2 2 3 0 1 2 2 2 2 2 3 2 1 1\n",
      " 3 0 3 1 2 3 2 1 2 3 2 1 0 3 1 1 3 0 2 0 1 2 2 1 3 0]\n",
      "[[-9.82217638  6.54181931  2.12517655]\n",
      " [ 8.28046155  8.09800203  2.14550117]\n",
      " [-4.93896853 -9.7422635  -8.47311691]\n",
      " [ 4.80828721  2.08364543 -6.43198968]]\n"
     ]
    }
   ],
   "source": [
    "#print(X)\n",
    "#print(y)\n",
    "# Initializing KMeans with 4 clusters\n",
    "kmeans = KMeans(n_clusters = 4, random_state = 0)\n",
    "# Fitting with inputs\n",
    "kmeans = kmeans.fit(X)\n",
    "# Labelling the clusters\n",
    "labels = kmeans.labels_\n",
    "print(labels)\n",
    "# Getting the cluster centers\n",
    "C = kmeans.cluster_centers_\n",
    "print(C)\n"
   ]
  },
  {
   "cell_type": "code",
   "execution_count": null,
   "metadata": {},
   "outputs": [],
   "source": []
  }
 ],
 "metadata": {
  "kernelspec": {
   "display_name": "Python 3",
   "language": "python",
   "name": "python3"
  },
  "language_info": {
   "codemirror_mode": {
    "name": "ipython",
    "version": 3
   },
   "file_extension": ".py",
   "mimetype": "text/x-python",
   "name": "python",
   "nbconvert_exporter": "python",
   "pygments_lexer": "ipython3",
   "version": "3.6.8"
  }
 },
 "nbformat": 4,
 "nbformat_minor": 2
}
