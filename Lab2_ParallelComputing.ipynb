{
 "cells": [
  {
   "cell_type": "code",
   "execution_count": 2,
   "metadata": {},
   "outputs": [
    {
     "name": "stdout",
     "output_type": "stream",
     "text": [
      "Input Data and Shape\n",
      "(3000, 2)\n"
     ]
    }
   ],
   "source": [
    "from copy import deepcopy\n",
    "import numpy as np\n",
    "import pandas as pd\n",
    "import time\n",
    "from sklearn.datasets import make_blobs\n",
    "from joblib import Parallel,delayed\n",
    "# Importing the dataset\n",
    "data = pd.read_csv('xclara.csv')\n",
    "print(\"Input Data and Shape\")\n",
    "print(data.shape)\n",
    "data.head()\n",
    "\n",
    "# Getting the values and plotting it\n",
    "f1 = data['V1'].values\n",
    "f2 = data['V2'].values\n",
    "X = np.array(list(zip(f1, f2)))\n",
    "\n",
    "\n",
    "# Euclidean Distance Caculator\n",
    "def dist(a, b, ax=1):\n",
    "    return np.linalg.norm(a - b, axis=ax)"
   ]
  },
  {
   "cell_type": "code",
   "execution_count": 16,
   "metadata": {},
   "outputs": [
    {
     "name": "stdout",
     "output_type": "stream",
     "text": [
      "Initial Centroids\n",
      "[[27. 82.]\n",
      " [49. 76.]\n",
      " [72. 33.]]\n",
      "cluster time 1.50955\n",
      "Final Centroid Values\n",
      "From scratch done by us:\n",
      "[[  9.4780459   10.686052  ]\n",
      " [ 40.68362784  59.71589274]\n",
      " [ 69.92418447 -10.11964119]]\n"
     ]
    }
   ],
   "source": [
    "# Number of clusters\n",
    "k = 3\n",
    "# X coordinates of random centroids\n",
    "C_x = np.random.randint(0, np.max(X)-20, size=k)\n",
    "# Y coordinates of random centroids\n",
    "C_y = np.random.randint(0, np.max(X)-20, size=k)\n",
    "C = np.array(list(zip(C_x, C_y)), dtype=np.float32)\n",
    "print(\"Initial Centroids\")\n",
    "print(C)\n",
    "\n",
    "# To store the value of centroids when it updates\n",
    "C_old = np.zeros(C.shape)\n",
    "# Cluster Lables(0, 1, 2)\n",
    "clusters = np.zeros(len(X))\n",
    "# Error func. - Distance between new centroids and old centroids\n",
    "error = dist(C, C_old, None)\n",
    "# Loop will run till the error becomes zero\n",
    "\n",
    "def assignment(i,x):\n",
    "    distances = dist(x[i], C)\n",
    "    cluster = np.argmin(distances)\n",
    "    clusters[i] = cluster\n",
    "    return clusters[i]\n",
    "\n",
    "def centroidcompute(i,x):\n",
    "    points = [X[j] for j in range(len(X)) if clusters[j] == i]\n",
    "    return np.mean(points, axis=0)\n",
    "\n",
    "\n",
    "if __name__ == '__main__':\n",
    "    start = time.time()\n",
    "    while error != 0:\n",
    "        #for i in range(len(X)):\n",
    "            #distances = dist(X[i], C)\n",
    "            #cluster = np.argmin(distances)\n",
    "            #clusters[i] = cluster\n",
    "            #assignment(i,X)\n",
    "        clusters = Parallel(n_jobs=1)(delayed(assignment)(i,X) for i in range(len(X)))\n",
    "\n",
    "        C_old = deepcopy(C)\n",
    "        #for i in range(k):\n",
    "            #for i in range(k):\n",
    "                #points = [X[j] for j in range(len(X)) if clusters[j] == i]\n",
    "                #C[i] = np.mean(points, axis=0)\n",
    "        C = np.array(Parallel(n_jobs=-1)(delayed(centroidcompute)(i,X) for i in range(k)))\n",
    "        error = dist(C, C_old, None)\n",
    "            \n",
    "\n",
    "\n",
    "    end = time.time()\n",
    "    print('cluster time %.5f' %(end-start))\n",
    "    print(\"Final Centroid Values\")\n",
    "    print(\"From scratch done by us:\")\n",
    "    print(C) # From Scratch"
   ]
  },
  {
   "cell_type": "code",
   "execution_count": 3,
   "metadata": {},
   "outputs": [
    {
     "name": "stdout",
     "output_type": "stream",
     "text": [
      "cluster time 0.02091\n",
      "From scikit-learn package:\n",
      "[[ 40.68362784  59.71589274]\n",
      " [ 69.92418447 -10.11964119]\n",
      " [  9.4780459   10.686052  ]]\n"
     ]
    }
   ],
   "source": [
    "'''\n",
    "==========================================================\n",
    "scikit-learn\n",
    "==========================================================\n",
    "'''\n",
    "\n",
    "from sklearn.cluster import KMeans\n",
    "\n",
    "start = time.time()\n",
    "# Number of clusters\n",
    "kmeans = KMeans(n_clusters=3)\n",
    "# Fitting the input data\n",
    "kmeans = kmeans.fit(X)\n",
    "# Getting the cluster labels\n",
    "labels = kmeans.predict(X)\n",
    "\n",
    "# Centroid values\n",
    "centroids = kmeans.cluster_centers_\n",
    "end = time.time()\n",
    "print('cluster time %.5f' %(end-start))\n",
    "# Comparing with scikit-learn centroids\n",
    "\n",
    "print(\"From scikit-learn package:\")\n",
    "print(centroids) # From sci-kit learn"
   ]
  },
  {
   "cell_type": "code",
   "execution_count": 13,
   "metadata": {},
   "outputs": [
    {
     "name": "stdout",
     "output_type": "stream",
     "text": [
      "Finished in 0.08580350875854492 sec\n"
     ]
    }
   ],
   "source": [
    "from matplotlib.path import Path\n",
    "import time\n",
    "import sys\n",
    "\n",
    "# Check if one line segment contains another. \n",
    "def check_paths(path):\n",
    "    res='no cross'\n",
    "    for other_path in a:\n",
    "        chck = Path(other_path)\n",
    "        if chck.contains_path(path)==1:\n",
    "            res= 'cross'\n",
    "            break\n",
    "    return res\n",
    "\n",
    "if __name__ == '__main__':\n",
    "    ## Create pairs of points for line segments\n",
    "    a = zip(np.random.rand(5000,2),np.random.rand(5000,2))\n",
    "    b = zip(np.random.rand(300,2),np.random.rand(300,2))\n",
    "    now = time.time()\n",
    "    for points in b:\n",
    "        check_paths(Path(points))\n",
    "    #res = Parallel(n_jobs=-1,backend='threading') (delayed(check_paths) (Path(points)) for points in b)\n",
    "   \n",
    "    print(\"Finished in\", time.time()-now , \"sec\")"
   ]
  },
  {
   "cell_type": "code",
   "execution_count": 34,
   "metadata": {},
   "outputs": [
    {
     "name": "stdout",
     "output_type": "stream",
     "text": [
      "for loop Finished in 5.753977060317993 sec\n",
      "parallel Finished in 24.810579776763916 sec\n"
     ]
    }
   ],
   "source": [
    "from math import sqrt\n",
    "now = time.time()\n",
    "com = [sqrt(i ** 2) for i in range(10000000)]\n",
    "print(\"for loop Finished in\", time.time()-now , \"sec\")\n",
    "now = time.time()\n",
    "Parallel(n_jobs=3)(delayed(sqrt)(i ** 2) for i in range(1000000))\n",
    "print(\"parallel Finished in\", time.time()-now , \"sec\")"
   ]
  },
  {
   "cell_type": "code",
   "execution_count": null,
   "metadata": {},
   "outputs": [],
   "source": []
  }
 ],
 "metadata": {
  "kernelspec": {
   "display_name": "Python 3",
   "language": "python",
   "name": "python3"
  },
  "language_info": {
   "codemirror_mode": {
    "name": "ipython",
    "version": 3
   },
   "file_extension": ".py",
   "mimetype": "text/x-python",
   "name": "python",
   "nbconvert_exporter": "python",
   "pygments_lexer": "ipython3",
   "version": "3.6.5"
  }
 },
 "nbformat": 4,
 "nbformat_minor": 2
}
