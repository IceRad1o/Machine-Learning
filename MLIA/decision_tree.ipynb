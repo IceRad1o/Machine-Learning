{
 "cells": [
  {
   "cell_type": "markdown",
   "metadata": {},
   "source": [
<<<<<<< HEAD
    "# 决策树\n",
    "决策树是一种基本的分类与回归方法"
=======
    "MLIA使用ID3算法划分数据集,用此算法来决定\n",
    "\n",
    "首先需要了解信息增益(information gain)和熵(entropy)\n"
   ]
  },
  {
   "cell_type": "markdown",
   "metadata": {},
   "source": [
    "| NO.        | Can survive without coming to surface? | Has flippers? | Fish? |\n",
    "| --------- | -------------------------------------- | ------------- | ----- |\n",
    "| 1         | Yes                                    | Yes           | Yes   |\n",
    "| 2         | Yes                                    | Yes           | Yes   |\n",
    "| 3         | Yes                                    | No            | No    |\n",
    "| 4         | No                                     | Yes           | No    |\n",
    "| 5         | No                                     | Yes           | No    |"
   ]
  },
  {
   "cell_type": "code",
   "execution_count": 8,
   "metadata": {},
   "outputs": [],
   "source": [
    "def createDataSet():\n",
    "    dataSet=[\n",
    "        [1,1,'yes'],\n",
    "        [1,1,'yes'],\n",
    "        [1,0,'no'],\n",
    "        [0,1,'no'],\n",
    "        [0,1,'no'],\n",
    "    ]\n",
    "    labels = ['no surfacing', 'flippers']\n",
    "    return dataSet, labels"
   ]
  },
  {
   "cell_type": "code",
   "execution_count": 10,
   "metadata": {},
   "outputs": [],
   "source": [
    "from math import log\n",
    "# compute entropy\n",
    "def calShannonEnt(dataSet):\n",
    "    numEntries = len(dataSet)\n",
    "    labelCounts = {}\n",
    "    for featVec in dataSet:\n",
    "        currentLabel = featVec[-1]\n",
    "        if currentLabel not in labelCounts.keys():\n",
    "            labelCounts[currentLabel] = 1\n",
    "        labelCounts[currentLabel] += 1\n",
    "    ShannonEnt = 0.0\n",
    "    for key in labelCounts:\n",
    "        prob = float(labelCounts[key]/numEntries)\n",
    "        ShannonEnt += prob*log(1.0/prob,2)\n",
    "    return ShannonEnt\n",
    "    \n",
    "        "
   ]
  },
  {
   "cell_type": "code",
   "execution_count": null,
   "metadata": {},
   "outputs": [],
   "source": [
    "dataset = createDataSet()\n",
    "print(calShannonEnt())"
>>>>>>> 889ca094afc5ee404e98d9feaabc798a1446ff8e
   ]
  },
  {
   "cell_type": "code",
   "execution_count": null,
   "metadata": {},
   "outputs": [],
   "source": []
  }
 ],
 "metadata": {
  "kernelspec": {
   "display_name": "Python 3",
   "language": "python",
   "name": "python3"
  },
  "language_info": {
   "codemirror_mode": {
    "name": "ipython",
    "version": 3
   },
   "file_extension": ".py",
   "mimetype": "text/x-python",
   "name": "python",
   "nbconvert_exporter": "python",
   "pygments_lexer": "ipython3",
   "version": "3.6.5"
  }
 },
 "nbformat": 4,
 "nbformat_minor": 2
}
