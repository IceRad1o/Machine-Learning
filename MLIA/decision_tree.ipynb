{
 "cells": [
  {
   "cell_type": "markdown",
   "metadata": {},
   "source": [
    "# 决策树\n",
    "\n",
    "决策树是一种基本的分类与回归方法\n",
    "MLIA使用ID3算法划分数据集,用此算法来决定\n",
    "\n",
    "首先需要了解信息增益(information gain)和熵(entropy)"
   ]
  },
  {
   "cell_type": "markdown",
   "metadata": {},
   "source": [
    "| NO.        | Can survive without coming to surface? | Has flippers? | Fish? |\n",
    "| --------- | -------------------------------------- | ------------- | ----- |\n",
    "| 1         | Yes                                    | Yes           | Yes   |\n",
    "| 2         | Yes                                    | Yes           | Yes   |\n",
    "| 3         | Yes                                    | No            | No    |\n",
    "| 4         | No                                     | Yes           | No    |\n",
    "| 5         | No                                     | Yes           | No    |"
   ]
  },
  {
   "cell_type": "code",
   "execution_count": 46,
   "metadata": {},
   "outputs": [],
   "source": [
    "def createDataSet():\n",
    "    dataSet=[\n",
    "        [1,1,'yes'],\n",
    "        [1,1,'yes'],\n",
    "        [1,0,'no'],\n",
    "        [0,1,'no'],\n",
    "        [0,1,'no'],\n",
    "    ]\n",
    "    labels = ['no surfacing', 'flippers']\n",
    "    return dataSet, labels"
   ]
  },
  {
   "cell_type": "code",
   "execution_count": 47,
   "metadata": {},
   "outputs": [],
   "source": [
    "from math import log\n",
    "# compute entropy\n",
    "def calShannonEnt(dataSet):\n",
    "    numEntries = len(dataSet)\n",
    "    labelCounts = {}\n",
    "    for featVec in dataSet:\n",
    "        currentLabel = featVec[-1]\n",
    "        if currentLabel not in list(labelCounts):\n",
    "            labelCounts[currentLabel] = 0\n",
    "        labelCounts[currentLabel] += 1\n",
    "    ShannonEnt = 0.0\n",
    "    for key in labelCounts:\n",
    "        prob = float(labelCounts[key]/numEntries)\n",
    "        ShannonEnt += prob*log(1.0/prob,2)\n",
    "    return ShannonEnt"
   ]
  },
  {
   "cell_type": "code",
   "execution_count": 48,
   "metadata": {},
   "outputs": [
    {
     "name": "stdout",
     "output_type": "stream",
     "text": [
      "entropy = 0.970951\n"
     ]
    }
   ],
   "source": [
    "dataset, labels = createDataSet()\n",
    "entropy = calShannonEnt(dataset)\n",
    "print('entropy = %f' %entropy)"
   ]
  },
  {
   "cell_type": "code",
   "execution_count": null,
   "metadata": {},
   "outputs": [],
   "source": [
    "def chooseBestFeatureToSplit(dataSet):\n",
    "dataset = createDataSet()\n",
    "print(calShannonEnt())"
   ]
  },
  {
   "cell_type": "code",
   "execution_count": null,
   "metadata": {},
   "outputs": [],
   "source": []
  }
 ],
 "metadata": {
  "kernelspec": {
   "display_name": "Python 3",
   "language": "python",
   "name": "python3"
  },
  "language_info": {
   "codemirror_mode": {
    "name": "ipython",
    "version": 3
   },
   "file_extension": ".py",
   "mimetype": "text/x-python",
   "name": "python",
   "nbconvert_exporter": "python",
   "pygments_lexer": "ipython3",
   "version": "3.6.8"
  },
  "varInspector": {
   "cols": {
    "lenName": 16,
    "lenType": 16,
    "lenVar": 40
   },
   "kernels_config": {
    "python": {
     "delete_cmd_postfix": "",
     "delete_cmd_prefix": "del ",
     "library": "var_list.py",
     "varRefreshCmd": "print(var_dic_list())"
    },
    "r": {
     "delete_cmd_postfix": ") ",
     "delete_cmd_prefix": "rm(",
     "library": "var_list.r",
     "varRefreshCmd": "cat(var_dic_list()) "
    }
   },
   "types_to_exclude": [
    "module",
    "function",
    "builtin_function_or_method",
    "instance",
    "_Feature"
   ],
   "version": "3.6.5",
   "window_display": false
  }
 },
 "nbformat": 4,
 "nbformat_minor": 2
}
