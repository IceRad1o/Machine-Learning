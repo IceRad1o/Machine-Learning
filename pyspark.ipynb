{
 "cells": [
  {
   "cell_type": "code",
   "execution_count": 3,
   "metadata": {},
   "outputs": [],
   "source": [
    "from pyspark.sql import SparkSession\n",
    "\n",
    "spark = SparkSession \\\n",
    "    .builder \\\n",
    "    .appName(\"Python Spark SQL basic example\") \\\n",
    "    .config(\"spark.some.config.option\", \"some-value\") \\\n",
    "    .getOrCreate()"
   ]
  },
  {
   "cell_type": "code",
   "execution_count": 4,
   "metadata": {},
   "outputs": [
    {
     "name": "stdout",
     "output_type": "stream",
     "text": [
      "+-----+-----+------+------------------+\n",
      "|Title|Month|Author|          Document|\n",
      "+-----+-----+------+------------------+\n",
      "|    a|  Jan|  John|This is a document|\n",
      "|    b|  Feb|  Mary|    A book by Mary|\n",
      "|    c|  Mar|  Luke| Newspaper article|\n",
      "|    d|  Apr|  Mark|              null|\n",
      "+-----+-----+------+------------------+\n",
      "\n"
     ]
    }
   ],
   "source": [
    "data = [\n",
    "    ['a', 'Jan', 'John', 'This is a document'],\n",
    "    ['b', 'Feb', 'Mary', 'A book by Mary'],\n",
    "    ['c', 'Mar', 'Luke', 'Newspaper article'],\n",
    "    ['d', 'Apr', 'Mark', None]\n",
    "]\n",
    "columns = ['Title', 'Month', 'Author', 'Document']\n",
    "df = spark.createDataFrame(data, columns)\n",
    "df.show()"
   ]
  },
  {
   "cell_type": "code",
   "execution_count": 5,
   "metadata": {},
   "outputs": [
    {
     "data": {
      "text/plain": [
       "[('book', 1),\n",
       " ('a', 2),\n",
       " ('by', 1),\n",
       " ('article', 1),\n",
       " ('this', 1),\n",
       " ('newspaper', 1),\n",
       " ('document', 1),\n",
       " ('mary', 1),\n",
       " ('is', 1)]"
      ]
     },
     "execution_count": 5,
     "metadata": {},
     "output_type": "execute_result"
    }
   ],
   "source": [
    "bow0 = df.rdd\\\n",
    "    .filter(lambda x: x.Document)\\\n",
    "    .map( lambda x: x.Document.replace(',',' ').replace('.',' ').replace('-',' ').lower())\\\n",
    "    .flatMap(lambda x: x.split())\\\n",
    "    .map(lambda x: (x, 1))\n",
    "bow0.reduceByKey(lambda x,y:x+y).take(50)"
   ]
  },
  {
   "cell_type": "code",
   "execution_count": 12,
   "metadata": {},
   "outputs": [
    {
     "name": "stdout",
     "output_type": "stream",
     "text": [
      "[0, 1]\n"
     ]
    },
    {
     "data": {
      "image/png": "[encoded data removed]",
      "text/plain": [
       "<Figure size 432x288 with 1 Axes>"
      ]
     },
     "metadata": {
      "needs_background": "light"
     },
     "output_type": "display_data"
    }
   ],
   "source": [
    "import matplotlib.pyplot as plt\n",
    "name_list = ['25000reviews']\n",
    "num_list = [2,15]\n",
    "x = list(range(len(num_list)))\n",
    "print(x)\n",
    "\n",
    "plt.bar(x, num_list, width=0.4, label='For-loop', fc='y')\n",
    "plt.legend()\n",
    "plt.show()\n",
    "         \n",
    "\n"
   ]
  },
  {
   "cell_type": "code",
   "execution_count": null,
   "metadata": {},
   "outputs": [],
   "source": []
  }
 ],
 "metadata": {
  "kernelspec": {
   "display_name": "Python 3",
   "language": "python",
   "name": "python3"
  },
  "language_info": {
   "codemirror_mode": {
    "name": "ipython",
    "version": 3
   },
   "file_extension": ".py",
   "mimetype": "text/x-python",
   "name": "python",
   "nbconvert_exporter": "python",
   "pygments_lexer": "ipython3",
   "version": "3.6.8"
  },
  "varInspector": {
   "cols": {
    "lenName": 16,
    "lenType": 16,
    "lenVar": 40
   },
   "kernels_config": {
    "python": {
     "delete_cmd_postfix": "",
     "delete_cmd_prefix": "del ",
     "library": "var_list.py",
     "varRefreshCmd": "print(var_dic_list())"
    },
    "r": {
     "delete_cmd_postfix": ") ",
     "delete_cmd_prefix": "rm(",
     "library": "var_list.r",
     "varRefreshCmd": "cat(var_dic_list()) "
    }
   },
   "types_to_exclude": [
    "module",
    "function",
    "builtin_function_or_method",
    "instance",
    "_Feature"
   ],
   "window_display": false
  }
 },
 "nbformat": 4,
 "nbformat_minor": 2
}
