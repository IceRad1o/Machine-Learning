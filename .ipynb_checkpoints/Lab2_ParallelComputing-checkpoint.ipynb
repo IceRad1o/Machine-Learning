{
 "cells": [
  {
   "cell_type": "code",
   "execution_count": 112,
   "metadata": {},
   "outputs": [
    {
     "name": "stdout",
     "output_type": "stream",
     "text": [
      "Input Data and Shape\n",
      "(3000, 2)\n"
     ]
    }
   ],
   "source": [
    "from copy import deepcopy\n",
    "import numpy as np\n",
    "import pandas as pd\n",
    "import time\n",
    "from sklearn.datasets import make_blobs\n",
    "from joblib import Parallel,delayed\n",
    "# Importing the dataset\n",
    "data = pd.read_csv('xclara.csv')\n",
    "print(\"Input Data and Shape\")\n",
    "print(data.shape)\n",
    "data.head()\n",
    "\n",
    "# Getting the values and plotting it\n",
    "f1 = data['V1'].values\n",
    "f2 = data['V2'].values\n",
    "X = np.array(list(zip(f1, f2)))\n",
    "\n",
    "\n",
    "# Euclidean Distance Caculator\n",
    "def dist(a, b, ax=1):\n",
    "    return np.linalg.norm(a - b, axis=ax)"
   ]
  },
  {
   "cell_type": "code",
   "execution_count": 164,
   "metadata": {},
   "outputs": [
    {
     "name": "stdout",
     "output_type": "stream",
     "text": [
      "Initial Centroids\n",
      "[[74. 72.]\n",
      " [ 6. 10.]\n",
      " [40. 68.]]\n",
      "cluster time 0.68826\n",
      "Final Centroid Values\n",
      "From scratch done by us:\n",
      "[[ 69.92418447 -10.11964119]\n",
      " [  9.4780459   10.686052  ]\n",
      " [ 40.68362784  59.71589274]]\n"
     ]
    }
   ],
   "source": [
    "# Number of clusters\n",
    "k = 3\n",
    "# X coordinates of random centroids\n",
    "C_x = np.random.randint(0, np.max(X)-20, size=k)\n",
    "# Y coordinates of random centroids\n",
    "C_y = np.random.randint(0, np.max(X)-20, size=k)\n",
    "C = np.array(list(zip(C_x, C_y)), dtype=np.float32)\n",
    "print(\"Initial Centroids\")\n",
    "print(C)\n",
    "\n",
    "# To store the value of centroids when it updates\n",
    "C_old = np.zeros(C.shape)\n",
    "# Cluster Lables(0, 1, 2)\n",
    "clusters = np.zeros(len(X))\n",
    "# Error func. - Distance between new centroids and old centroids\n",
    "error = dist(C, C_old, None)\n",
    "# Loop will run till the error becomes zero\n",
    "\n",
    "def assignment(i,x):\n",
    "    distances = dist(x[i], C)\n",
    "    cluster = np.argmin(distances)\n",
    "    clusters[i] = cluster\n",
    "    return clusters[i]\n",
    "\n",
    "def centroidcompute(i,x):\n",
    "    points = [X[j] for j in range(len(X)) if clusters[j] == i]\n",
    "    return np.mean(points, axis=0)\n",
    "\n",
    "start = time.time()\n",
    "while error != 0:\n",
    "    #Assigning each value to its closest cluster\n",
    "    #for i in range(len(X)):\n",
    "        #distances = dist(X[i], C)\n",
    "        #cluster = np.argmin(distances)\n",
    "        #clusters[i] = cluster\n",
    "    clusters = Parallel(n_jobs=1)(delayed(assignment)(i,X) for i in range(len(X)))\n",
    "    \n",
    "    # Storing the old centroid values\n",
    "    C_old = deepcopy(C)\n",
    "    # Finding the new centroids by taking the average value\n",
    "    #for i in range(k):\n",
    "        #points = [X[j] for j in range(len(X)) if clusters[j] == i]\n",
    "        #C[i] = np.mean(points, axis=0)\n",
    "    C = np.array(Parallel(n_jobs=1)(delayed(centroidcompute)(i,X) for i in range(k)))\n",
    "    \n",
    "    error = dist(C, C_old, None)\n",
    "    \n",
    "end = time.time()\n",
    "print('cluster time %.5f' %(end-start))\n",
    "print(\"Final Centroid Values\")\n",
    "print(\"From scratch done by us:\")\n",
    "print(C) # From Scratch"
   ]
  },
  {
   "cell_type": "markdown",
   "metadata": {},
   "source": []
  },
  {
   "cell_type": "code",
   "execution_count": 132,
   "metadata": {},
   "outputs": [
    {
     "name": "stdout",
     "output_type": "stream",
     "text": [
      "cluster time 0.02184\n",
      "From scikit-learn package:\n",
      "[[  9.4780459   10.686052  ]\n",
      " [ 40.68362784  59.71589274]\n",
      " [ 69.92418447 -10.11964119]]\n"
     ]
    }
   ],
   "source": [
    "'''\n",
    "==========================================================\n",
    "scikit-learn\n",
    "==========================================================\n",
    "'''\n",
    "\n",
    "from sklearn.cluster import KMeans\n",
    "\n",
    "start = time.time()\n",
    "# Number of clusters\n",
    "kmeans = KMeans(n_clusters=3)\n",
    "# Fitting the input data\n",
    "kmeans = kmeans.fit(X)\n",
    "# Getting the cluster labels\n",
    "labels = kmeans.predict(X)\n",
    "\n",
    "# Centroid values\n",
    "centroids = kmeans.cluster_centers_\n",
    "end = time.time()\n",
    "print('cluster time %.5f' %(end-start))\n",
    "# Comparing with scikit-learn centroids\n",
    "\n",
    "print(\"From scikit-learn package:\")\n",
    "print(centroids) # From sci-kit learn"
   ]
  },
  {
   "cell_type": "code",
   "execution_count": null,
   "metadata": {},
   "outputs": [],
   "source": []
  },
  {
   "cell_type": "code",
   "execution_count": 120,
   "metadata": {},
   "outputs": [
    {
     "name": "stdout",
     "output_type": "stream",
     "text": [
      "time:0.0072\n",
      "[0.0, 1.0, 2.0, 3.0, 4.0, 5.0, 6.0, 7.0, 8.0, 9.0]\n"
     ]
    }
   ],
   "source": [
    "import math\n",
    "num = 10\n",
    "l = [None]*num\n",
    "def my_func(i,reslist):\n",
    "    reslist[i] = math.sqrt(i**2)\n",
    "    return reslist[i]\n",
    "start = time.time()\n",
    "l = Parallel(n_jobs=2)(delayed(my_func)(i) for i in range(num))\n",
    "end = time.time()\n",
    "print('time:%.4f' %(end-start))\n",
    "print(l)"
   ]
  }
 ],
 "metadata": {
  "kernelspec": {
   "display_name": "Python 3",
   "language": "python",
   "name": "python3"
  },
  "language_info": {
   "codemirror_mode": {
    "name": "ipython",
    "version": 3
   },
   "file_extension": ".py",
   "mimetype": "text/x-python",
   "name": "python",
   "nbconvert_exporter": "python",
   "pygments_lexer": "ipython3",
   "version": "3.6.8"
  }
 },
 "nbformat": 4,
 "nbformat_minor": 2
}
