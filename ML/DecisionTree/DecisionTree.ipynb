{
 "cells": [
  {
   "cell_type": "markdown",
   "metadata": {},
   "source": [
    "# 决策树\n",
    "决策树是一种基本的分类与回归方法\n",
    "决策树的学习包括三个步骤：特征选择，决策树生成，决策树修剪\n",
    "主要的算法有ID3，C4.5，以及CART\n",
    "\n",
    "### 特征选择\n",
    "通常特征选择的准则是信息增益或者信息增益比\n",
    "\n",
    "#### 信息增益\n",
    "熵(entropy)是表示随机变量不确定性的度量。设X是一个取有限个值的离散随机变量，其概率分布为\n",
    "$$P(x = x_i) = p_i, i=1,2....,n$$\n",
    "则随机变量X的熵定义为\n",
    "$$H(x) = -\\sum_{i=1}^{n}p_ilogp_i\\tag{1.1}$$\n",
    "在式(1.1)中,如果$p_i$=0,则定义$0log0 = 0$. 由定义可知，熵只依赖于X的分布，而和X的取值无关，所以也可以将X的熵记作H(p),即\n",
    "$$H(p) = -\\sum_{i=1}^{n}p_ilogp_i\\tag{1.2}$$\n",
    "熵越大，随机变量的不确定性就越大. 从定义可验证\n",
    "$$0\\le H(p)\\le logn\\tag{1.3}$$"
   ]
  },
  {
   "cell_type": "markdown",
   "metadata": {},
   "source": []
  },
  {
   "cell_type": "code",
   "execution_count": null,
   "metadata": {},
   "outputs": [],
   "source": [
    "from math import log\n",
    "def calcShannonEnt(dataSet):\n",
    "    numEntries = len(dataSet)\n",
    "    labelCounts = {}\n",
    "    for featVec in dataSet:\n",
    "        currentLabel = featVec[-1]\n",
    "        if currentLabel not in labelCounts.keys():\n",
    "            labelCounts[currentLabel]=0\n",
    "        labelCounts[currentLabel] += 1\n",
    "    shannonEnt = 0.0\n",
    "    for key in labelCounts:\n",
    "        prob = float(labelCounts[key])/numEntries\n",
    "        shannonEnt -= prob * log(prob,2)\n",
    "    return shannonEnt\n",
    "\n",
    "\n",
    "    "
   ]
  }
 ],
 "metadata": {
  "kernelspec": {
   "display_name": "Python [conda env:root] *",
   "language": "python",
   "name": "conda-root-py"
  },
  "language_info": {
   "codemirror_mode": {
    "name": "ipython",
    "version": 3
   },
   "file_extension": ".py",
   "mimetype": "text/x-python",
   "name": "python",
   "nbconvert_exporter": "python",
   "pygments_lexer": "ipython3",
   "version": "3.6.8"
  },
  "varInspector": {
   "cols": {
    "lenName": 16,
    "lenType": 16,
    "lenVar": 40
   },
   "kernels_config": {
    "python": {
     "delete_cmd_postfix": "",
     "delete_cmd_prefix": "del ",
     "library": "var_list.py",
     "varRefreshCmd": "print(var_dic_list())"
    },
    "r": {
     "delete_cmd_postfix": ") ",
     "delete_cmd_prefix": "rm(",
     "library": "var_list.r",
     "varRefreshCmd": "cat(var_dic_list()) "
    }
   },
   "types_to_exclude": [
    "module",
    "function",
    "builtin_function_or_method",
    "instance",
    "_Feature"
   ],
   "window_display": false
  }
 },
 "nbformat": 4,
 "nbformat_minor": 2
}
